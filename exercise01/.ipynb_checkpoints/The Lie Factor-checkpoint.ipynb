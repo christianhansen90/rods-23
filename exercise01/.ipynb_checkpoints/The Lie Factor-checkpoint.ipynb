{
 "cells": [
  {
   "cell_type": "markdown",
   "metadata": {},
   "source": [
    "# The Lie Factor$^1$\n",
    "\n",
    "## Definition\n",
    "\n",
    "The \"Lie Factor\" is a value to describe the relation between the size of effect shown in a graphic and the size of effect shown in the data.\n",
    "\n",
    "Edward Tufte, Prof. at the Yale University, defined the “Lie Factor” in his book “The Visual Display of Quantitative Information” in 1983.[Tufte, 1991]\n",
    "\n",
    "He states the principle that\n",
    "\n",
    "The representation of numbers, as physically measured on the surface of the graphic itself, should be directly proportional to the quantities represented.\n",
    "\n",
    "This results in the following formula:\n",
    "$$\n",
    "\\text{Lie Factor} = \\frac{\\text{size of effect shown in graphic}}{\\text{size of effect in data}}\n",
    "$$\n",
    "where\n",
    "$$\n",
    "\\text{size of effect} = \\frac{\\text{|second value - first value|}}{\\text{first value}}\n",
    "$$\n",
    "\n",
    "In other words, the Lie Factor is “the size of an effect shown in a graph divided by the actual size of the effect in the data on which the graph is based”. [Craven, 2001]\n",
    "\n",
    "## Description\n",
    "\n",
    "To ensure the Integrity of a graphic, its Lie Factor should have a value between 0.95 and 1.05. If the value is less or greater, it indicates a substantial (and often intended) distortion, far beyond minor inaccuracies (e.g. caused by plotting).\n",
    "\n",
    "For example, if the lie factor had the value 1.02, then the graphic would not be described as a “lying” one, since a jitter in the graphic or another minor error is more likely the cause for the given distortion. On the other hand, if the factor had the value 1.45, we can generally assume that the producer intentionally distorted the graphic. Is the Lie Factor greater than 1, the concerned graphic is so called “Overstating”. Is it less than 1, the graphic is “Understating”.\n",
    "\n",
    "\n",
    "\n",
    "\n",
    "\n",
    "1: https://infovis-wiki.net/wiki/Lie_Factor"
   ]
  },
  {
   "cell_type": "markdown",
   "metadata": {},
   "source": [
    "# Example\n",
    "![](https://miro.medium.com/max/700/1*uI-z9s9_URfjzpQc3FCDxw.png)\n",
    "\n",
    "In this chart from the Argentinian TV channel C5N, it looks like Argentina is testing for COVID-19 at almost the same rate as the United States (EEUU). However, by inspecting the numbers, we immediately observe that Argentina is doing significantly worse than the US. Let's calculate the Lie Factor:\n",
    "\n",
    "* The Argentinian bar is about 80 pixels tall. The American bar is about 100 pixels tall.\n",
    "* The size of the effect shown in graphic is then (100-80)/80 = 0.25, and the size of the effect in data is (7000-330)/(330) = 20.2\n",
    "* The lie factor is thus 0.25 / 20.2=0.0123.\n",
    "\n",
    "We can now conclude that the graphic is understating."
   ]
  },
  {
   "cell_type": "markdown",
   "metadata": {},
   "source": [
    "# Exercise\n",
    "Find the Lie Factors (outside the range [0.95 : 1.05]) in the following charts.\n",
    "In order to measure pixel coordinates, you can use the screenshot tool (Command-Shift-4) on Mac. On Windows, you can save the screenshot from snipping tool (Win+Shift+s) and look at its properties to see its size in pixels. On Linux, use the screenshot tool of your choice (scrot and flameshot are popular), and use the `file` command to see its dimensions."
   ]
  },
  {
   "cell_type": "markdown",
   "metadata": {},
   "source": [
    "![](https://www.callingbullshit.org/tools/img/GTAI_average_hours.gif)"
   ]
  },
  {
   "cell_type": "code",
   "execution_count": 7,
   "metadata": {},
   "outputs": [],
   "source": [
    "Romania = 472 - 191\n",
    "UK = 450 - 191\n",
    "Germany = 429 - 191\n",
    "Poland = 401 - 191\n",
    "Neherlands = 395 - 191\n",
    "Slovak_Republic = 395 - 191\n",
    "Czech = 391 - 191\n",
    "EU_28 = 381 - 191\n",
    "Spain = 381 - 191\n",
    "Hungary = 365 - 191\n",
    "Sweden =332 - 191\n",
    "Belgium = 305 - 191\n",
    "Italy = 300 - 191\n",
    "France = 268 - 191"
   ]
  },
  {
   "cell_type": "code",
   "execution_count": 8,
   "metadata": {},
   "outputs": [],
   "source": [
    "def lie_factor(graphic_1, graphic_2, data_1, data_2):\n",
    "    graph_effect = (graphic_1 - graphic_2) / graphic_2\n",
    "    data_effect = (data_1 - data_2) / data_2\n",
    "    \n",
    "    return graph_effect/data_effect\n",
    "\n",
    "'''\n",
    "Compared to Value1, Value2 is either understated or overstated\n",
    "'''"
   ]
  },
  {
   "cell_type": "code",
   "execution_count": 9,
   "metadata": {},
   "outputs": [
    {
     "data": {
      "text/plain": [
       "8.66409266409254"
      ]
     },
     "execution_count": 9,
     "metadata": {},
     "output_type": "execute_result"
    }
   ],
   "source": [
    "lie_factor(Romania, UK, 41.2, 40.8)"
   ]
  },
  {
   "cell_type": "code",
   "execution_count": 10,
   "metadata": {},
   "outputs": [
    {
     "data": {
      "text/plain": [
       "26.075187969924784"
      ]
     },
     "execution_count": 10,
     "metadata": {},
     "output_type": "execute_result"
    }
   ],
   "source": [
    "lie_factor(Romania, France, 41.2, 37.4)"
   ]
  },
  {
   "cell_type": "code",
   "execution_count": 14,
   "metadata": {},
   "outputs": [
    {
     "data": {
      "text/plain": [
       "10.394736842105115"
      ]
     },
     "execution_count": 14,
     "metadata": {},
     "output_type": "execute_result"
    }
   ],
   "source": [
    "lie_factor(Czech, EU_28, 39.7, 39.5)"
   ]
  },
  {
   "cell_type": "markdown",
   "metadata": {},
   "source": [
    "![](https://peltiertech.com/images/2011-11/Ybroken.png)"
   ]
  },
  {
   "cell_type": "code",
   "execution_count": 11,
   "metadata": {},
   "outputs": [
    {
     "data": {
      "text/plain": [
       "0.08823529411764706"
      ]
     },
     "execution_count": 11,
     "metadata": {},
     "output_type": "execute_result"
    }
   ],
   "source": [
    "lie_factor(200, 50, 35, 1)"
   ]
  },
  {
   "cell_type": "code",
   "execution_count": null,
   "metadata": {},
   "outputs": [],
   "source": []
  },
  {
   "cell_type": "markdown",
   "metadata": {},
   "source": [
    "![](https://pbs.twimg.com/media/CzenChZXAAASXED?format=png&name=small)"
   ]
  },
  {
   "cell_type": "code",
   "execution_count": 12,
   "metadata": {},
   "outputs": [
    {
     "data": {
      "text/plain": [
       "0.0"
      ]
     },
     "execution_count": 12,
     "metadata": {},
     "output_type": "execute_result"
    }
   ],
   "source": [
    "'''\n",
    "THe problem with this is that the bars are equal length, so their difference is 0 and Lie Factor cannot be used.\n",
    "'''\n",
    "lie_factor(100, 100, 100, 99)"
   ]
  },
  {
   "cell_type": "code",
   "execution_count": null,
   "metadata": {},
   "outputs": [],
   "source": []
  }
 ],
 "metadata": {
  "kernelspec": {
   "display_name": "Python 3 (ipykernel)",
   "language": "python",
   "name": "python3"
  },
  "language_info": {
   "codemirror_mode": {
    "name": "ipython",
    "version": 3
   },
   "file_extension": ".py",
   "mimetype": "text/x-python",
   "name": "python",
   "nbconvert_exporter": "python",
   "pygments_lexer": "ipython3",
   "version": "3.9.13"
  }
 },
 "nbformat": 4,
 "nbformat_minor": 2
}
