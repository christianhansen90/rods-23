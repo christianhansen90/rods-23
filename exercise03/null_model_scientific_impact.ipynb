{
 "cells": [
  {
   "cell_type": "markdown",
   "metadata": {},
   "source": [
    "# Exercise week 3: Null models"
   ]
  },
  {
   "cell_type": "code",
   "execution_count": 1,
   "metadata": {},
   "outputs": [],
   "source": [
    "# Imports\n",
    "import pandas as pd\n",
    "import matplotlib.pyplot as plt\n",
    "import seaborn as sns\n",
    "import numpy as np\n",
    "import random\n",
    "from scipy.stats import mannwhitneyu as mannU"
   ]
  },
  {
   "cell_type": "markdown",
   "metadata": {},
   "source": [
    "<h2>Quantifying the evolution of individual scientific impact</h2>\n",
    "\n",
    "For this exercise you will reproduce results of the paper: *Quantifying the evolution\n",
    "of individual scientific impact*: http://www.robertasinatra.com/pdf/Science_quantifying_aaf5239_Sinatra.pdf\n",
    "\n",
    "The exercise consists of creating a null model for the distribution of the time of the highest impact paper in scientific careers. You will be reproducing the results shown in Figure 2D in the paper.\n",
    "\n",
    "\n",
    "<b>The dataset describing the scientist's careers is as follows:</b>\n",
    "\n",
    "Careers time: scientist id and a list of time (in days) when his/her papers were published.\n",
    "\n",
    "Careers cites: scientist id and a list of number of citations each paper received. Note that here we are using the number of citations as a proxy to measure the impact of a paper."
   ]
  },
  {
   "cell_type": "markdown",
   "metadata": {},
   "source": [
    "<h2>Read the time the papers were published</h2>"
   ]
  },
  {
   "cell_type": "code",
   "execution_count": 2,
   "metadata": {},
   "outputs": [
    {
     "data": {
      "text/html": [
       "<div>\n",
       "<style scoped>\n",
       "    .dataframe tbody tr th:only-of-type {\n",
       "        vertical-align: middle;\n",
       "    }\n",
       "\n",
       "    .dataframe tbody tr th {\n",
       "        vertical-align: top;\n",
       "    }\n",
       "\n",
       "    .dataframe thead th {\n",
       "        text-align: right;\n",
       "    }\n",
       "</style>\n",
       "<table border=\"1\" class=\"dataframe\">\n",
       "  <thead>\n",
       "    <tr style=\"text-align: right;\">\n",
       "      <th></th>\n",
       "      <th>id</th>\n",
       "      <th>papers</th>\n",
       "    </tr>\n",
       "  </thead>\n",
       "  <tbody>\n",
       "    <tr>\n",
       "      <th>0</th>\n",
       "      <td>48</td>\n",
       "      <td>[0, 455, 1057, 1330, 1687, 1939, 2065, 2492, 2...</td>\n",
       "    </tr>\n",
       "    <tr>\n",
       "      <th>1</th>\n",
       "      <td>64</td>\n",
       "      <td>[0, 175, 1400, 1492, 2206, 2223, 2407, 2710, 2...</td>\n",
       "    </tr>\n",
       "    <tr>\n",
       "      <th>2</th>\n",
       "      <td>378</td>\n",
       "      <td>[0, 0, 249, 354, 371, 583, 644, 675, 781, 781,...</td>\n",
       "    </tr>\n",
       "    <tr>\n",
       "      <th>3</th>\n",
       "      <td>476</td>\n",
       "      <td>[0, 61, 244, 304, 419, 594, 608, 839, 973, 109...</td>\n",
       "    </tr>\n",
       "    <tr>\n",
       "      <th>4</th>\n",
       "      <td>485</td>\n",
       "      <td>[0, 194, 335, 335, 335, 943, 973, 1218, 1980, ...</td>\n",
       "    </tr>\n",
       "  </tbody>\n",
       "</table>\n",
       "</div>"
      ],
      "text/plain": [
       "    id                                             papers\n",
       "0   48  [0, 455, 1057, 1330, 1687, 1939, 2065, 2492, 2...\n",
       "1   64  [0, 175, 1400, 1492, 2206, 2223, 2407, 2710, 2...\n",
       "2  378  [0, 0, 249, 354, 371, 583, 644, 675, 781, 781,...\n",
       "3  476  [0, 61, 244, 304, 419, 594, 608, 839, 973, 109...\n",
       "4  485  [0, 194, 335, 335, 335, 943, 973, 1218, 1980, ..."
      ]
     },
     "execution_count": 2,
     "metadata": {},
     "output_type": "execute_result"
    }
   ],
   "source": [
    "careers_time = pd.read_csv('./careers_time.txt', sep='; ', header=None, engine='python')\n",
    "careers_time.columns = ['id', 'papers']\n",
    "\n",
    "# Split string into a list of ints\n",
    "careers_time['papers'] = careers_time.papers.str.split('\\t')\n",
    "careers_time['papers'] = careers_time['papers'].apply(lambda x: [int(i) - int(x[0]) for i in x])\n",
    "\n",
    "careers_time.head()"
   ]
  },
  {
   "cell_type": "markdown",
   "metadata": {},
   "source": [
    "<h2>Read the number of citations each paper received</h2>"
   ]
  },
  {
   "cell_type": "code",
   "execution_count": 3,
   "metadata": {},
   "outputs": [
    {
     "data": {
      "text/html": [
       "<div>\n",
       "<style scoped>\n",
       "    .dataframe tbody tr th:only-of-type {\n",
       "        vertical-align: middle;\n",
       "    }\n",
       "\n",
       "    .dataframe tbody tr th {\n",
       "        vertical-align: top;\n",
       "    }\n",
       "\n",
       "    .dataframe thead th {\n",
       "        text-align: right;\n",
       "    }\n",
       "</style>\n",
       "<table border=\"1\" class=\"dataframe\">\n",
       "  <thead>\n",
       "    <tr style=\"text-align: right;\">\n",
       "      <th></th>\n",
       "      <th>id</th>\n",
       "      <th>cites</th>\n",
       "    </tr>\n",
       "  </thead>\n",
       "  <tbody>\n",
       "    <tr>\n",
       "      <th>0</th>\n",
       "      <td>48</td>\n",
       "      <td>[4, 6, 24, 3, 3, 2, 3, 1, 2, 21, 0, 16, 3, 1, ...</td>\n",
       "    </tr>\n",
       "    <tr>\n",
       "      <th>1</th>\n",
       "      <td>64</td>\n",
       "      <td>[1, 0, 4, 34, 1, 20, 2, 2, 9, 1, 2, 3, 6, 1, 8...</td>\n",
       "    </tr>\n",
       "    <tr>\n",
       "      <th>2</th>\n",
       "      <td>378</td>\n",
       "      <td>[2, 5, 7, 3, 1, 0, 4, 5, 5, 12, 4, 32, 12, 4, ...</td>\n",
       "    </tr>\n",
       "    <tr>\n",
       "      <th>3</th>\n",
       "      <td>476</td>\n",
       "      <td>[0, 6, 8, 8, 5, 7, 4, 2, 0, 1, 7, 0, 2, 6, 4, ...</td>\n",
       "    </tr>\n",
       "    <tr>\n",
       "      <th>4</th>\n",
       "      <td>485</td>\n",
       "      <td>[13, 6, 16, 16, 11, 6, 14, 2, 0, 6, 21, 32, 41...</td>\n",
       "    </tr>\n",
       "  </tbody>\n",
       "</table>\n",
       "</div>"
      ],
      "text/plain": [
       "    id                                              cites\n",
       "0   48  [4, 6, 24, 3, 3, 2, 3, 1, 2, 21, 0, 16, 3, 1, ...\n",
       "1   64  [1, 0, 4, 34, 1, 20, 2, 2, 9, 1, 2, 3, 6, 1, 8...\n",
       "2  378  [2, 5, 7, 3, 1, 0, 4, 5, 5, 12, 4, 32, 12, 4, ...\n",
       "3  476  [0, 6, 8, 8, 5, 7, 4, 2, 0, 1, 7, 0, 2, 6, 4, ...\n",
       "4  485  [13, 6, 16, 16, 11, 6, 14, 2, 0, 6, 21, 32, 41..."
      ]
     },
     "execution_count": 3,
     "metadata": {},
     "output_type": "execute_result"
    }
   ],
   "source": [
    "careers_cites = pd.read_csv('./careers_cites.txt', sep='; ', header=None, engine='python')\n",
    "careers_cites.columns = ['id', 'cites']\n",
    "\n",
    "# Split string into a list of ints\n",
    "careers_cites['cites'] = careers_cites.cites.str.split('\\t')\n",
    "careers_cites['cites'] = careers_cites['cites'].apply(lambda x: [int(i) for i in x])\n",
    "\n",
    "careers_cites.head()"
   ]
  },
  {
   "cell_type": "markdown",
   "metadata": {},
   "source": [
    "We can tell from the two dataframes how many citations each paper received and when it was published. For instance, looking at the first row in the two dataframes, scientist no. 48 published his/her first paper (after 0 days), which received 4 citations. He/She published their second paper after 455 days which received 6 citations, and so on."
   ]
  },
  {
   "cell_type": "markdown",
   "metadata": {},
   "source": [
    "<h2>Create the null model by randomizing the citations counts </h2>"
   ]
  },
  {
   "cell_type": "markdown",
   "metadata": {},
   "source": [
    "To reproduce the results shown in Figure 2D in the paper, perform the following steps.\n",
    "\n",
    "1) Create the null model by randomizing the number of citations of each paper for each scientist.\n",
    "\n",
    "2) Calculate the time of publication in years for the papers with the highest number of citations."
   ]
  },
  {
   "cell_type": "code",
   "execution_count": null,
   "metadata": {},
   "outputs": [],
   "source": []
  },
  {
   "cell_type": "markdown",
   "metadata": {},
   "source": [
    "<h2>Plot both distributions: Original data and randomized data</h2>"
   ]
  },
  {
   "cell_type": "markdown",
   "metadata": {},
   "source": [
    "Now, reproduce Figure 2D in the paper. Plot the distribution of the original data and your randomized data in the same plot. Compute the p-value between the two distributions using the [Mann-Whitney U test](https://en.wikipedia.org/wiki/Mann%E2%80%93Whitney_U_test) (already imported)."
   ]
  },
  {
   "cell_type": "code",
   "execution_count": null,
   "metadata": {},
   "outputs": [],
   "source": []
  }
 ],
 "metadata": {
  "kernelspec": {
   "display_name": "Python 3 (ipykernel)",
   "language": "python",
   "name": "python3"
  },
  "language_info": {
   "codemirror_mode": {
    "name": "ipython",
    "version": 3
   },
   "file_extension": ".py",
   "mimetype": "text/x-python",
   "name": "python",
   "nbconvert_exporter": "python",
   "pygments_lexer": "ipython3",
   "version": "3.10.6"
  }
 },
 "nbformat": 4,
 "nbformat_minor": 2
}
